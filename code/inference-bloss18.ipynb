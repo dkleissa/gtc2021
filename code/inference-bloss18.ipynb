{
 "cells": [
  {
   "cell_type": "markdown",
   "metadata": {},
   "source": [
    "## Variables\n",
    "These variables will be set by papermill"
   ]
  },
  {
   "cell_type": "code",
   "execution_count": null,
   "metadata": {
    "tags": [
     "parameters"
    ]
   },
   "outputs": [],
   "source": [
    "x_start = 0\n",
    "x_step = 0\n",
    "y_start = 0\n",
    "y_step = 0\n",
    "z_start = 0\n",
    "z_step = 0\n",
    "gpu_idx = 0\n",
    "\n",
    "weights_file = '../input/weights/membrane_weights.hdf5'\n",
    "output_dir = '../output/untracked/run1'\n",
    "file_prefix = f\"bloss18_membrane_z{z_start}-{z_start+z_step}_y{y_start}-{y_start+y_step}_x{x_start}-{x_start+x_step}\"\n"
   ]
  },
  {
   "cell_type": "code",
   "execution_count": null,
   "metadata": {},
   "outputs": [],
   "source": [
    "import os\n",
    "os.environ[\"CUDA_VISIBLE_DEVICES\"] = str(gpu_idx)"
   ]
  },
  {
   "cell_type": "code",
   "execution_count": null,
   "metadata": {},
   "outputs": [],
   "source": [
    "from saber.cnn_tools import *\n",
    "from saber.data_tools import *\n",
    "\n",
    "import keras\n",
    "from keras import backend as K\n",
    "from keras.models import load_model\n",
    "\n",
    "import sys\n",
    "import time\n",
    "import numpy as np\n",
    "import json\n",
    "\n",
    "from PIL import Image\n",
    "\n",
    "from intern import array\n",
    "import time\n"
   ]
  },
  {
   "cell_type": "markdown",
   "metadata": {},
   "source": [
    "## Load specified chunk of data\n",
    "Load the specified chunk of data for this job to process from the Boss."
   ]
  },
  {
   "cell_type": "code",
   "execution_count": null,
   "metadata": {},
   "outputs": [],
   "source": [
    "# Save a cutout to a numpy array in ZYX order:\n",
    "em = array(\"bossdb://bloss/bloss18/image\")\n",
    "x_test = None\n",
    "for _ in range(3):\n",
    "    try:\n",
    "        x_test = em[z_start:z_start+z_step, y_start:y_start+y_step, x_start:x_start+x_step]\n",
    "        break\n",
    "    except:\n",
    "        print(\"retrying to download data....\")\n",
    "        time.sleep(5)\n",
    "        \n",
    "if x_test is None:\n",
    "    raise Exception(\"Failed to download data after 3 tries!\")"
   ]
  },
  {
   "cell_type": "markdown",
   "metadata": {},
   "source": [
    "## Prepare the data\n",
    "We're using some existing code that has all sorts of undocumented requirements. Let's just do what is recommended by reshaping and rescaling the data"
   ]
  },
  {
   "cell_type": "code",
   "execution_count": null,
   "metadata": {},
   "outputs": [],
   "source": [
    "x_test = x_test[:, np.newaxis, :, :]\n",
    "# Data must be [slices, chan, row, col] (i.e. [Z, chan, Y, X])\n",
    "x_test = x_test.astype(np.float32)"
   ]
  },
  {
   "cell_type": "code",
   "execution_count": null,
   "metadata": {},
   "outputs": [],
   "source": [
    "# Pixel values must be in [0,1]\n",
    "if x_test.max() > 1.0:\n",
    "    x_test /= 255."
   ]
  },
  {
   "cell_type": "markdown",
   "metadata": {},
   "source": [
    "## Load the Modal\n",
    "Load the specified model and set the GPU in use"
   ]
  },
  {
   "cell_type": "code",
   "execution_count": null,
   "metadata": {},
   "outputs": [],
   "source": [
    "width = 256\n",
    "height = 256\n",
    "tile_size = (width, height)\n",
    "z_step_inf = 1\n",
    "\n",
    "np.random.seed(9999)\n",
    "K.common.set_image_dim_ordering('th')\n",
    "\n",
    "with tf.device(f\"/device:GPU:{gpu_idx}\"):\n",
    "    # Load model\n",
    "    model = create_unet((1, int(width), int(height)));\n",
    "    model.load_weights(weights_file);"
   ]
  },
  {
   "cell_type": "markdown",
   "metadata": {},
   "source": [
    "## Classify images\n",
    "Now we run images through the network. This will result in probability images from 0-255 indicating the probability that a pixel is a membrane (or synapse). You can then use this to threshold and classify pixels."
   ]
  },
  {
   "cell_type": "code",
   "execution_count": null,
   "metadata": {},
   "outputs": [],
   "source": [
    "tic = time.time()\n",
    "y_hat = np.zeros(x_test.shape)\n",
    "with tf.device(f\"/device:GPU:{gpu_idx}\"):\n",
    "    for i in range(0, x_test.shape[0], z_step_inf):\n",
    "        y_hat[i:i+z_step_inf, ...] = deploy_model(x_test[i:i+z_step_inf, ...], model)\n",
    "        \n",
    "    # Reshape for output\n",
    "    y_hat = np.squeeze(np.transpose(y_hat, (3, 2, 0, 1)))\n",
    "    y_hat = np.floor(y_hat*255)\n",
    "    y_hat = y_hat.astype(np.uint8)\n",
    "print('Total time to process entire volume: {}'.format(time.time() - tic))"
   ]
  },
  {
   "cell_type": "markdown",
   "metadata": {},
   "source": [
    "## Save results\n",
    "We save both a npy file and a stack of png images for later use and visualization"
   ]
  },
  {
   "cell_type": "code",
   "execution_count": null,
   "metadata": {},
   "outputs": [],
   "source": [
    "# Save numpy array\n",
    "np.save(os.path.join(output_dir, 'npy', f\"{file_prefix}.npy\"), y_hat)\n",
    "\n",
    "# Save images\n",
    "for idx in range(z_step):\n",
    "    im = Image.fromarray(y_hat[:,:,idx])\n",
    "    im.save(os.path.join(output_dir, 'png', f\"bloss18_membrane_z{z_start+idx}_y{y_start}-{y_start+y_step}_x{x_start}-{x_start+x_step}.png\"))\n"
   ]
  }
 ],
 "metadata": {
  "kernelspec": {
   "display_name": "Python 3",
   "language": "python",
   "name": "python3"
  },
  "language_info": {
   "codemirror_mode": {
    "name": "ipython",
    "version": 3
   },
   "file_extension": ".py",
   "mimetype": "text/x-python",
   "name": "python",
   "nbconvert_exporter": "python",
   "pygments_lexer": "ipython3",
   "version": "3.7.10"
  }
 },
 "nbformat": 4,
 "nbformat_minor": 4
}
